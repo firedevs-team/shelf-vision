{
  "nbformat": 4,
  "nbformat_minor": 0,
  "metadata": {
    "colab": {
      "name": "shelf vision stage 1 detections.ipynb",
      "provenance": [],
      "mount_file_id": "1_GSKSXO80I6R4UBmAVUJGJnsUCO2Pxjh",
      "authorship_tag": "ABX9TyMXu/BWTmOil0h7jdC5ELH6",
      "include_colab_link": true
    },
    "kernelspec": {
      "name": "python3",
      "display_name": "Python 3"
    },
    "language_info": {
      "name": "python"
    }
  },
  "cells": [
    {
      "cell_type": "markdown",
      "metadata": {
        "id": "view-in-github",
        "colab_type": "text"
      },
      "source": [
        "<a href=\"https://colab.research.google.com/github/firedevs-team/shelf-vision/blob/master/shelf_vision_stage_1_detections.ipynb\" target=\"_parent\"><img src=\"https://colab.research.google.com/assets/colab-badge.svg\" alt=\"Open In Colab\"/></a>"
      ]
    },
    {
      "cell_type": "code",
      "execution_count": 1,
      "metadata": {
        "colab": {
          "base_uri": "https://localhost:8080/"
        },
        "id": "GVbkK1mKIm3N",
        "outputId": "60ea0974-4718-47a0-bfeb-83cc525e938c"
      },
      "outputs": [
        {
          "output_type": "stream",
          "name": "stdout",
          "text": [
            "rm: refusing to remove '.' or '..' directory: skipping './'\n",
            "  % Total    % Received % Xferd  Average Speed   Time    Time     Time  Current\n",
            "                                 Dload  Upload   Total   Spent    Left  Speed\n",
            "100   896  100   896    0     0    898      0 --:--:-- --:--:-- --:--:--   897\n",
            "100 1148k  100 1148k    0     0   571k      0  0:00:02  0:00:02 --:--:-- 1421k\n",
            "Archive:  roboflow.zip\n",
            " extracting: README.dataset.txt      \n",
            " extracting: README.roboflow.txt     \n",
            " extracting: data.yaml               \n",
            "   creating: train/\n",
            "   creating: train/images/\n",
            " extracting: train/images/shelf-vision_mp4-0_jpg.rf.a8b3abc4e7eb8ff191577d877d5f30d9.jpg  \n",
            " extracting: train/images/shelf-vision_mp4-115_jpg.rf.fb42596e9b9bdae8713f5c649494779a.jpg  \n",
            " extracting: train/images/shelf-vision_mp4-131_jpg.rf.e5a2ee245433f519c478f03d37d3c691.jpg  \n",
            " extracting: train/images/shelf-vision_mp4-135_jpg.rf.dd78765a079d9b67553bb386e8170fbd.jpg  \n",
            " extracting: train/images/shelf-vision_mp4-154_jpg.rf.9cc4942843b64667e509ace7ee217eb7.jpg  \n",
            " extracting: train/images/shelf-vision_mp4-15_jpg.rf.a20d2da3d19bd24f84712d58d6acbebf.jpg  \n",
            " extracting: train/images/shelf-vision_mp4-182_jpg.rf.06bbf071901121f3d6de29105d9e080c.jpg  \n",
            " extracting: train/images/shelf-vision_mp4-190_jpg.rf.c2b5116dfec5c644c3821abf28246b82.jpg  \n",
            " extracting: train/images/shelf-vision_mp4-20_jpg.rf.2c9941158d244f2518ee73a9ab6d5e17.jpg  \n",
            " extracting: train/images/shelf-vision_mp4-21_jpg.rf.2fed9ed7a62b9b03b1468f9faec9df90.jpg  \n",
            " extracting: train/images/shelf-vision_mp4-36_jpg.rf.68bb9aa3e8ca0fa1ab23cd1aa5919d30.jpg  \n",
            " extracting: train/images/shelf-vision_mp4-38_jpg.rf.3f74f2b7273357d2f3900540f1290c7d.jpg  \n",
            " extracting: train/images/shelf-vision_mp4-39_jpg.rf.b19f2a288b11a6ff807a4cade5729372.jpg  \n",
            " extracting: train/images/shelf-vision_mp4-41_jpg.rf.18f8f8517b5106ac701b6e08e37e384d.jpg  \n",
            " extracting: train/images/shelf-vision_mp4-60_jpg.rf.667b59ea056f9a2e672f3d2581e7f448.jpg  \n",
            " extracting: train/images/shelf-vision_mp4-66_jpg.rf.e891aaac99a80771cb250ea206e4da01.jpg  \n",
            "   creating: train/labels/\n",
            " extracting: train/labels/shelf-vision_mp4-0_jpg.rf.a8b3abc4e7eb8ff191577d877d5f30d9.txt  \n",
            " extracting: train/labels/shelf-vision_mp4-115_jpg.rf.fb42596e9b9bdae8713f5c649494779a.txt  \n",
            " extracting: train/labels/shelf-vision_mp4-131_jpg.rf.e5a2ee245433f519c478f03d37d3c691.txt  \n",
            " extracting: train/labels/shelf-vision_mp4-135_jpg.rf.dd78765a079d9b67553bb386e8170fbd.txt  \n",
            " extracting: train/labels/shelf-vision_mp4-154_jpg.rf.9cc4942843b64667e509ace7ee217eb7.txt  \n",
            " extracting: train/labels/shelf-vision_mp4-15_jpg.rf.a20d2da3d19bd24f84712d58d6acbebf.txt  \n",
            " extracting: train/labels/shelf-vision_mp4-182_jpg.rf.06bbf071901121f3d6de29105d9e080c.txt  \n",
            " extracting: train/labels/shelf-vision_mp4-190_jpg.rf.c2b5116dfec5c644c3821abf28246b82.txt  \n",
            " extracting: train/labels/shelf-vision_mp4-20_jpg.rf.2c9941158d244f2518ee73a9ab6d5e17.txt  \n",
            " extracting: train/labels/shelf-vision_mp4-21_jpg.rf.2fed9ed7a62b9b03b1468f9faec9df90.txt  \n",
            " extracting: train/labels/shelf-vision_mp4-36_jpg.rf.68bb9aa3e8ca0fa1ab23cd1aa5919d30.txt  \n",
            " extracting: train/labels/shelf-vision_mp4-38_jpg.rf.3f74f2b7273357d2f3900540f1290c7d.txt  \n",
            " extracting: train/labels/shelf-vision_mp4-39_jpg.rf.b19f2a288b11a6ff807a4cade5729372.txt  \n",
            " extracting: train/labels/shelf-vision_mp4-41_jpg.rf.18f8f8517b5106ac701b6e08e37e384d.txt  \n",
            " extracting: train/labels/shelf-vision_mp4-60_jpg.rf.667b59ea056f9a2e672f3d2581e7f448.txt  \n",
            " extracting: train/labels/shelf-vision_mp4-66_jpg.rf.e891aaac99a80771cb250ea206e4da01.txt  \n",
            "   creating: valid/\n",
            "   creating: valid/images/\n",
            " extracting: valid/images/shelf-vision_mp4-10_jpg.rf.6b6780e87438d51812a4fd9053bfc560.jpg  \n",
            " extracting: valid/images/shelf-vision_mp4-141_jpg.rf.3fbb558ff6d2f2ea3a4fd3a0452ec2cd.jpg  \n",
            " extracting: valid/images/shelf-vision_mp4-76_jpg.rf.fc2e445db013b3129bdb1b3e8a567cd3.jpg  \n",
            " extracting: valid/images/shelf-vision_mp4-9_jpg.rf.42b5ebcd675b7e86b3a1ebb41150b4b8.jpg  \n",
            "   creating: valid/labels/\n",
            " extracting: valid/labels/shelf-vision_mp4-10_jpg.rf.6b6780e87438d51812a4fd9053bfc560.txt  \n",
            " extracting: valid/labels/shelf-vision_mp4-141_jpg.rf.3fbb558ff6d2f2ea3a4fd3a0452ec2cd.txt  \n",
            " extracting: valid/labels/shelf-vision_mp4-76_jpg.rf.fc2e445db013b3129bdb1b3e8a567cd3.txt  \n",
            " extracting: valid/labels/shelf-vision_mp4-9_jpg.rf.42b5ebcd675b7e86b3a1ebb41150b4b8.txt  \n"
          ]
        }
      ],
      "source": [
        "%rm -rf ./\n",
        "!curl -L \"https://app.roboflow.com/ds/ABjeuf4KwU?key=BJ7VCV6BFU\" > roboflow.zip; unzip roboflow.zip; rm roboflow.zip"
      ]
    },
    {
      "cell_type": "code",
      "source": [
        "!git clone https://github.com/ultralytics/yolov5  # clone\n",
        "%cd yolov5\n",
        "%pip install -qr requirements.txt  # install\n",
        "\n",
        "from yolov5 import utils\n",
        "display = utils.notebook_init()  # checks"
      ],
      "metadata": {
        "colab": {
          "base_uri": "https://localhost:8080/"
        },
        "id": "PzNUqX03JAqz",
        "outputId": "2c766608-496c-4993-c503-bbbff56bd7fe"
      },
      "execution_count": 2,
      "outputs": [
        {
          "output_type": "stream",
          "name": "stderr",
          "text": [
            "YOLOv5 🚀 v6.0-159-gdb6ec66 torch 1.10.0+cu111 CPU\n"
          ]
        },
        {
          "output_type": "stream",
          "name": "stdout",
          "text": [
            "Setup complete ✅ (2 CPUs, 12.7 GB RAM, 41.8/225.9 GB disk)\n"
          ]
        }
      ]
    },
    {
      "cell_type": "code",
      "source": [
        "!unzip shelf-vision-stage-1.128batch-2000epoch.training-results.zip"
      ],
      "metadata": {
        "colab": {
          "base_uri": "https://localhost:8080/"
        },
        "id": "rJ98ypJ0JbEr",
        "outputId": "cbd9d3a0-7409-41fc-8df3-0b0e038404f7"
      },
      "execution_count": 6,
      "outputs": [
        {
          "output_type": "stream",
          "name": "stdout",
          "text": [
            "Archive:  shelf-vision-stage-1.128batch-2000epoch.training-results.zip\n",
            "  inflating: runs/train/exp5/best.pt  \n",
            "  inflating: runs/train/exp5/command.txt  \n",
            "  inflating: runs/train/exp5/confusion_matrix.png  \n",
            "  inflating: runs/train/exp5/events.out.tfevents.1640298760.ded5450cf322.1042.0  \n",
            "  inflating: runs/train/exp5/F1_curve.png  \n",
            "  inflating: runs/train/exp5/hyp.yaml  \n",
            "  inflating: runs/train/exp5/labels_correlogram.jpg  \n",
            "  inflating: runs/train/exp5/labels.jpg  \n",
            "  inflating: runs/train/exp5/last.pt  \n",
            "  inflating: runs/train/exp5/opt.yaml  \n",
            "  inflating: runs/train/exp5/P_curve.png  \n",
            "  inflating: runs/train/exp5/PR_curve.png  \n",
            "  inflating: runs/train/exp5/R_curve.png  \n",
            "  inflating: runs/train/exp5/results.csv  \n",
            "  inflating: runs/train/exp5/results.png  \n",
            "  inflating: runs/train/exp5/train_batch0.jpg  \n",
            "  inflating: runs/train/exp5/train_batch1.jpg  \n",
            "  inflating: runs/train/exp5/train_batch2.jpg  \n",
            "  inflating: runs/train/exp5/val_batch0_labels.jpg  \n",
            "  inflating: runs/train/exp5/val_batch0_pred.jpg  \n"
          ]
        }
      ]
    },
    {
      "cell_type": "code",
      "source": [
        "!python detect.py --weights runs/train/exp5/best.pt --img 416 --conf 0.25 --source ../train/images"
      ],
      "metadata": {
        "colab": {
          "base_uri": "https://localhost:8080/"
        },
        "id": "J88ERNxHh6h0",
        "outputId": "d7fbeddd-2227-476e-8cbd-257d04cc48af"
      },
      "execution_count": 8,
      "outputs": [
        {
          "output_type": "stream",
          "name": "stdout",
          "text": [
            "\u001b[34m\u001b[1mdetect: \u001b[0mweights=['runs/train/exp5/best.pt'], source=../train/images, imgsz=[416, 416], conf_thres=0.25, iou_thres=0.45, max_det=1000, device=, view_img=False, save_txt=False, save_conf=False, save_crop=False, nosave=False, classes=None, agnostic_nms=False, augment=False, visualize=False, update=False, project=runs/detect, name=exp, exist_ok=False, line_thickness=3, hide_labels=False, hide_conf=False, half=False, dnn=False\n",
            "YOLOv5 🚀 v6.0-159-gdb6ec66 torch 1.10.0+cu111 CPU\n",
            "\n",
            "Fusing layers... \n",
            "Model Summary: 213 layers, 7128793 parameters, 0 gradients, 16.2 GFLOPs\n",
            "image 1/16 /content/train/images/shelf-vision_mp4-0_jpg.rf.a8b3abc4e7eb8ff191577d877d5f30d9.jpg: 416x416 3 bigbottle-coffe-whites, 6 bigbottle-green-greens, 8 bottle-coffe-whites, 2 bottle-orange-reds, 2 bottle-orange-yellows, 1 bottle-red-white, 3 bottle-yellow-greens, 17 bottle-yellow-whites, 12 bottle-yellow-yellows, 2 box-black-blues, 8 box-black-reds, 7 box-black-whites, 3 box-black-yellows, 5 box-blue-greens, 12 box-blue-oranges, 1 box-blue-yellow, 5 box-cian-blues, 6 box-cian-reds, 7 box-green-greens, 5 box-green-oranges, 4 box-green-reds, 7 box-green-whites, 9 box-green-yellows, 8 box-multicolors, 9 box-orange-oranges, 10 box-orange-yellows, 5 box-purple-greens, 3 box-red-reds, 10 box-red-whites, 6 box-skyblue-reds, 2 box-yellow-blues, 1 box-yellow-green, 1 box-yellow-yellow, Done. (0.237s)\n",
            "image 2/16 /content/train/images/shelf-vision_mp4-115_jpg.rf.fb42596e9b9bdae8713f5c649494779a.jpg: 416x416 3 bigbottle-coffe-whites, 5 bigbottle-green-greens, 1 bottle-coffe-red, 7 bottle-coffe-whites, 3 bottle-orange-reds, 2 bottle-orange-yellows, 2 bottle-red-whites, 2 bottle-yellow-greens, 12 bottle-yellow-whites, 5 bottle-yellow-yellows, 3 box-black-blues, 10 box-black-reds, 10 box-black-whites, 2 box-black-yellows, 6 box-blue-greens, 19 box-blue-oranges, 1 box-blue-yellow, 7 box-cian-blues, 8 box-cian-reds, 8 box-green-greens, 6 box-green-oranges, 5 box-green-reds, 7 box-green-whites, 14 box-green-yellows, 1 box-lightgreen-orange, 10 box-multicolors, 3 box-orange-oranges, 5 box-orange-yellows, 4 box-purple-greens, 11 box-red-whites, 6 box-skyblue-reds, 3 box-yellow-blues, 2 box-yellow-yellows, Done. (0.192s)\n",
            "image 3/16 /content/train/images/shelf-vision_mp4-131_jpg.rf.e5a2ee245433f519c478f03d37d3c691.jpg: 416x416 3 bigbottle-coffe-whites, 4 bigbottle-green-greens, 1 bottle-coffe-red, 12 bottle-coffe-whites, 1 bottle-orange-purple, 1 bottle-orange-red, 1 bottle-orange-yellow, 14 bottle-yellow-whites, 7 bottle-yellow-yellows, 3 box-black-blues, 7 box-black-reds, 10 box-black-whites, 1 box-black-yellow, 4 box-blue-greens, 14 box-blue-oranges, 1 box-blue-yellow, 5 box-cian-blues, 11 box-cian-reds, 8 box-green-greens, 7 box-green-oranges, 4 box-green-reds, 7 box-green-whites, 13 box-green-yellows, 11 box-multicolors, 6 box-orange-oranges, 5 box-orange-yellows, 3 box-purple-greens, 1 box-red-red, 9 box-red-whites, 7 box-skyblue-reds, 3 box-yellow-blues, 2 box-yellow-yellows, Done. (0.182s)\n",
            "image 4/16 /content/train/images/shelf-vision_mp4-135_jpg.rf.dd78765a079d9b67553bb386e8170fbd.jpg: 416x416 3 bigbottle-coffe-whites, 4 bigbottle-green-greens, 1 bottle-coffe-red, 12 bottle-coffe-whites, 1 bottle-orange-purple, 4 bottle-orange-reds, 2 bottle-yellow-greens, 12 bottle-yellow-whites, 5 bottle-yellow-yellows, 3 box-black-blues, 8 box-black-reds, 10 box-black-whites, 1 box-black-yellow, 5 box-blue-greens, 15 box-blue-oranges, 1 box-blue-yellow, 5 box-cian-blues, 10 box-cian-reds, 5 box-green-greens, 7 box-green-oranges, 4 box-green-reds, 7 box-green-whites, 13 box-green-yellows, 10 box-multicolors, 8 box-orange-oranges, 5 box-orange-yellows, 3 box-purple-greens, 1 box-red-red, 11 box-red-whites, 7 box-skyblue-reds, 3 box-yellow-blues, 2 box-yellow-yellows, Done. (0.191s)\n",
            "image 5/16 /content/train/images/shelf-vision_mp4-154_jpg.rf.9cc4942843b64667e509ace7ee217eb7.jpg: 416x416 4 bigbottle-coffe-whites, 4 bigbottle-green-greens, 1 bottle-coffe-red, 12 bottle-coffe-whites, 2 bottle-orange-purples, 8 bottle-orange-reds, 1 bottle-orange-yellow, 2 bottle-red-whites, 2 bottle-yellow-greens, 10 bottle-yellow-whites, 2 bottle-yellow-yellows, 5 box-black-blues, 8 box-black-reds, 10 box-black-whites, 2 box-black-yellows, 5 box-blue-greens, 15 box-blue-oranges, 1 box-blue-yellow, 7 box-cian-blues, 7 box-cian-reds, 1 box-cian-yellow, 7 box-green-greens, 6 box-green-oranges, 5 box-green-reds, 7 box-green-whites, 13 box-green-yellows, 8 box-multicolors, 5 box-orange-oranges, 12 box-orange-yellows, 5 box-purple-greens, 3 box-red-reds, 10 box-red-whites, 7 box-skyblue-reds, 3 box-yellow-blues, 1 box-yellow-yellow, Done. (0.189s)\n",
            "image 6/16 /content/train/images/shelf-vision_mp4-15_jpg.rf.a20d2da3d19bd24f84712d58d6acbebf.jpg: 416x416 3 bigbottle-coffe-whites, 5 bigbottle-green-greens, 9 bottle-coffe-whites, 2 bottle-orange-purples, 5 bottle-orange-yellows, 2 bottle-yellow-greens, 13 bottle-yellow-whites, 10 bottle-yellow-yellows, 3 box-black-blues, 8 box-black-reds, 6 box-black-whites, 2 box-black-yellows, 4 box-blue-greens, 10 box-blue-oranges, 2 box-blue-yellows, 6 box-cian-blues, 5 box-cian-reds, 1 box-cian-yellow, 9 box-green-greens, 5 box-green-oranges, 4 box-green-reds, 8 box-green-whites, 12 box-green-yellows, 8 box-multicolors, 10 box-orange-oranges, 7 box-orange-yellows, 5 box-purple-greens, 3 box-red-reds, 12 box-red-whites, 7 box-skyblue-reds, 2 box-yellow-blues, 1 box-yellow-green, 3 box-yellow-oranges, 2 box-yellow-yellows, Done. (0.212s)\n",
            "image 7/16 /content/train/images/shelf-vision_mp4-182_jpg.rf.06bbf071901121f3d6de29105d9e080c.jpg: 416x416 2 bigbottle-coffe-whites, 3 bigbottle-green-greens, 2 bottle-coffe-reds, 15 bottle-coffe-whites, 3 bottle-orange-purples, 10 bottle-orange-reds, 1 bottle-red-white, 2 bottle-yellow-greens, 13 bottle-yellow-whites, 3 box-black-blues, 8 box-black-reds, 9 box-black-whites, 2 box-black-yellows, 2 box-blue-greens, 15 box-blue-oranges, 1 box-blue-yellow, 7 box-cian-blues, 8 box-cian-reds, 1 box-cian-yellow, 8 box-green-greens, 6 box-green-oranges, 4 box-green-reds, 8 box-green-whites, 11 box-green-yellows, 9 box-multicolors, 6 box-orange-oranges, 14 box-orange-yellows, 4 box-purple-greens, 2 box-red-reds, 10 box-red-whites, 7 box-skyblue-reds, 3 box-yellow-blues, 1 box-yellow-yellow, Done. (0.198s)\n",
            "image 8/16 /content/train/images/shelf-vision_mp4-190_jpg.rf.c2b5116dfec5c644c3821abf28246b82.jpg: 416x416 3 bigbottle-coffe-whites, 4 bigbottle-green-greens, 1 bottle-coffe-red, 12 bottle-coffe-whites, 1 bottle-orange-purple, 7 bottle-orange-reds, 2 bottle-yellow-greens, 10 bottle-yellow-whites, 1 bottle-yellow-yellow, 3 box-black-blues, 10 box-black-reds, 7 box-black-whites, 2 box-black-yellows, 1 box-blue-green, 13 box-blue-oranges, 1 box-blue-yellow, 8 box-cian-blues, 5 box-cian-reds, 1 box-cian-yellow, 6 box-green-greens, 6 box-green-oranges, 3 box-green-reds, 8 box-green-whites, 10 box-green-yellows, 9 box-multicolors, 5 box-orange-oranges, 10 box-orange-yellows, 4 box-purple-greens, 1 box-red-red, 12 box-red-whites, 6 box-skyblue-reds, 2 box-yellow-blues, 1 box-yellow-yellow, Done. (0.210s)\n",
            "image 9/16 /content/train/images/shelf-vision_mp4-20_jpg.rf.2c9941158d244f2518ee73a9ab6d5e17.jpg: 416x416 3 bigbottle-coffe-whites, 5 bigbottle-green-greens, 1 bottle-coffe-red, 5 bottle-coffe-whites, 3 bottle-orange-yellows, 2 bottle-yellow-greens, 11 bottle-yellow-whites, 8 bottle-yellow-yellows, 3 box-black-blues, 8 box-black-reds, 7 box-black-whites, 2 box-black-yellows, 4 box-blue-greens, 10 box-blue-oranges, 1 box-blue-yellow, 6 box-cian-blues, 5 box-cian-reds, 7 box-green-greens, 5 box-green-oranges, 4 box-green-reds, 7 box-green-whites, 12 box-green-yellows, 8 box-multicolors, 9 box-orange-oranges, 8 box-orange-yellows, 5 box-purple-greens, 3 box-red-reds, 12 box-red-whites, 6 box-skyblue-reds, 2 box-yellow-blues, 1 box-yellow-green, 1 box-yellow-yellow, Done. (0.206s)\n",
            "image 10/16 /content/train/images/shelf-vision_mp4-21_jpg.rf.2fed9ed7a62b9b03b1468f9faec9df90.jpg: 416x416 3 bigbottle-coffe-whites, 6 bigbottle-green-greens, 4 bottle-coffe-whites, 2 bottle-orange-yellows, 1 bottle-red-white, 2 bottle-yellow-greens, 8 bottle-yellow-whites, 9 bottle-yellow-yellows, 4 box-black-blues, 9 box-black-reds, 8 box-black-whites, 3 box-black-yellows, 4 box-blue-greens, 10 box-blue-oranges, 1 box-blue-yellow, 4 box-cian-blues, 5 box-cian-reds, 10 box-green-greens, 4 box-green-oranges, 5 box-green-reds, 8 box-green-whites, 10 box-green-yellows, 7 box-multicolors, 11 box-orange-oranges, 7 box-orange-yellows, 5 box-purple-greens, 3 box-red-reds, 10 box-red-whites, 7 box-skyblue-reds, 2 box-yellow-blues, 1 box-yellow-green, 2 box-yellow-yellows, Done. (0.216s)\n",
            "image 11/16 /content/train/images/shelf-vision_mp4-36_jpg.rf.68bb9aa3e8ca0fa1ab23cd1aa5919d30.jpg: 416x416 3 bigbottle-coffe-whites, 5 bigbottle-green-greens, 1 bottle-coffe-red, 11 bottle-coffe-whites, 1 bottle-orange-purple, 2 bottle-orange-reds, 2 bottle-orange-yellows, 2 bottle-red-whites, 3 bottle-yellow-greens, 12 bottle-yellow-whites, 9 bottle-yellow-yellows, 3 box-black-blues, 7 box-black-reds, 7 box-black-whites, 3 box-black-yellows, 4 box-blue-greens, 16 box-blue-oranges, 2 box-blue-yellows, 5 box-cian-blues, 8 box-cian-reds, 9 box-green-greens, 4 box-green-oranges, 4 box-green-reds, 8 box-green-whites, 16 box-green-yellows, 1 box-lightgreen-lightgreen, 1 box-lightgreen-orange, 9 box-multicolors, 9 box-orange-oranges, 10 box-orange-yellows, 4 box-purple-greens, 4 box-red-reds, 10 box-red-whites, 5 box-skyblue-reds, 2 box-yellow-blues, 1 box-yellow-green, 3 box-yellow-yellows, Done. (0.203s)\n",
            "image 12/16 /content/train/images/shelf-vision_mp4-38_jpg.rf.3f74f2b7273357d2f3900540f1290c7d.jpg: 416x416 3 bigbottle-coffe-whites, 5 bigbottle-green-greens, 1 bottle-coffe-red, 11 bottle-coffe-whites, 1 bottle-orange-purple, 2 bottle-orange-reds, 2 bottle-orange-yellows, 2 bottle-red-whites, 3 bottle-yellow-greens, 12 bottle-yellow-whites, 9 bottle-yellow-yellows, 3 box-black-blues, 7 box-black-reds, 7 box-black-whites, 3 box-black-yellows, 4 box-blue-greens, 16 box-blue-oranges, 2 box-blue-yellows, 5 box-cian-blues, 8 box-cian-reds, 9 box-green-greens, 4 box-green-oranges, 4 box-green-reds, 8 box-green-whites, 16 box-green-yellows, 1 box-lightgreen-lightgreen, 1 box-lightgreen-orange, 9 box-multicolors, 9 box-orange-oranges, 10 box-orange-yellows, 4 box-purple-greens, 4 box-red-reds, 10 box-red-whites, 5 box-skyblue-reds, 2 box-yellow-blues, 1 box-yellow-green, 3 box-yellow-yellows, Done. (0.212s)\n",
            "image 13/16 /content/train/images/shelf-vision_mp4-39_jpg.rf.b19f2a288b11a6ff807a4cade5729372.jpg: 416x416 1 bigbottle-coffe-orange, 2 bigbottle-coffe-whites, 5 bigbottle-green-greens, 1 bottle-coffe-red, 12 bottle-coffe-whites, 1 bottle-orange-purple, 1 bottle-orange-red, 2 bottle-orange-yellows, 1 bottle-red-white, 4 bottle-yellow-greens, 13 bottle-yellow-whites, 11 bottle-yellow-yellows, 4 box-black-blues, 7 box-black-reds, 8 box-black-whites, 2 box-black-yellows, 5 box-blue-greens, 16 box-blue-oranges, 1 box-blue-yellow, 5 box-cian-blues, 8 box-cian-reds, 11 box-green-greens, 4 box-green-oranges, 4 box-green-reds, 7 box-green-whites, 16 box-green-yellows, 9 box-multicolors, 8 box-orange-oranges, 8 box-orange-yellows, 5 box-purple-greens, 1 box-red-red, 10 box-red-whites, 5 box-skyblue-reds, 2 box-yellow-blues, 1 box-yellow-green, 3 box-yellow-yellows, Done. (0.214s)\n",
            "image 14/16 /content/train/images/shelf-vision_mp4-41_jpg.rf.18f8f8517b5106ac701b6e08e37e384d.jpg: 416x416 1 bigbottle-coffe-orange, 2 bigbottle-coffe-whites, 4 bigbottle-green-greens, 8 bottle-coffe-whites, 1 bottle-orange-purple, 1 bottle-red-white, 2 bottle-yellow-greens, 10 bottle-yellow-whites, 5 bottle-yellow-yellows, 4 box-black-blues, 6 box-black-reds, 7 box-black-whites, 2 box-black-yellows, 3 box-blue-greens, 14 box-blue-oranges, 2 box-blue-yellows, 6 box-cian-blues, 8 box-cian-reds, 10 box-green-greens, 5 box-green-oranges, 4 box-green-reds, 7 box-green-whites, 10 box-green-yellows, 1 box-lightgreen-orange, 10 box-multicolors, 12 box-orange-oranges, 10 box-orange-yellows, 4 box-purple-greens, 10 box-red-whites, 5 box-skyblue-reds, 1 box-yellow-blue, 2 box-yellow-yellows, Done. (0.200s)\n",
            "image 15/16 /content/train/images/shelf-vision_mp4-60_jpg.rf.667b59ea056f9a2e672f3d2581e7f448.jpg: 416x416 2 bigbottle-coffe-oranges, 3 bigbottle-coffe-whites, 4 bigbottle-green-greens, 2 bottle-coffe-reds, 10 bottle-coffe-whites, 1 bottle-orange-red, 1 bottle-orange-yellow, 2 bottle-yellow-greens, 12 bottle-yellow-whites, 13 bottle-yellow-yellows, 3 box-black-blues, 8 box-black-reds, 9 box-black-whites, 2 box-black-yellows, 5 box-blue-greens, 16 box-blue-oranges, 1 box-blue-red, 1 box-blue-yellow, 5 box-cian-blues, 7 box-cian-reds, 10 box-green-greens, 7 box-green-oranges, 5 box-green-reds, 9 box-green-whites, 12 box-green-yellows, 1 box-lightgreen-lightgreen, 11 box-multicolors, 8 box-orange-oranges, 9 box-orange-yellows, 5 box-purple-greens, 2 box-red-reds, 10 box-red-whites, 6 box-skyblue-reds, 1 box-yellow-blue, 1 box-yellow-green, 1 box-yellow-yellow, Done. (0.209s)\n",
            "image 16/16 /content/train/images/shelf-vision_mp4-66_jpg.rf.e891aaac99a80771cb250ea206e4da01.jpg: 416x416 3 bigbottle-coffe-whites, 3 bigbottle-green-greens, 1 bottle-coffe-red, 8 bottle-coffe-whites, 3 bottle-orange-reds, 1 bottle-orange-yellow, 1 bottle-red-white, 2 bottle-yellow-greens, 10 bottle-yellow-whites, 7 bottle-yellow-yellows, 4 box-black-blues, 8 box-black-reds, 9 box-black-whites, 3 box-black-yellows, 3 box-blue-greens, 15 box-blue-oranges, 1 box-blue-yellow, 4 box-cian-blues, 10 box-cian-reds, 9 box-green-greens, 6 box-green-oranges, 6 box-green-reds, 8 box-green-whites, 10 box-green-yellows, 9 box-multicolors, 5 box-orange-oranges, 10 box-orange-yellows, 5 box-purple-greens, 4 box-red-reds, 10 box-red-whites, 6 box-skyblue-reds, 1 box-yellow-blue, 2 box-yellow-yellows, Done. (0.183s)\n",
            "Speed: 1.4ms pre-process, 203.4ms inference, 3.8ms NMS per image at shape (1, 3, 416, 416)\n",
            "Results saved to \u001b[1mruns/detect/exp2\u001b[0m\n"
          ]
        }
      ]
    },
    {
      "cell_type": "code",
      "source": [
        "import torch\n",
        "\n",
        "model = torch.load('./runs/train/exp5/best.pt')"
      ],
      "metadata": {
        "id": "JcVL0bT2mVqM"
      },
      "execution_count": 10,
      "outputs": []
    },
    {
      "cell_type": "code",
      "source": [
        "results = model('../train.images/shelf-vision_mp4-0_jpg.rf.a8b3abc4e7eb8ff191577d877d5f30d9.jpg')\n",
        "print(results)"
      ],
      "metadata": {
        "colab": {
          "base_uri": "https://localhost:8080/",
          "height": 235
        },
        "id": "HTJrt7CqnfqW",
        "outputId": "b2d0a1c8-46e1-4535-e0e8-5aa43e6103e1"
      },
      "execution_count": 11,
      "outputs": [
        {
          "output_type": "error",
          "ename": "TypeError",
          "evalue": "ignored",
          "traceback": [
            "\u001b[0;31m---------------------------------------------------------------------------\u001b[0m",
            "\u001b[0;31mTypeError\u001b[0m                                 Traceback (most recent call last)",
            "\u001b[0;32m<ipython-input-11-6f1156ffdd4b>\u001b[0m in \u001b[0;36m<module>\u001b[0;34m()\u001b[0m\n\u001b[0;32m----> 1\u001b[0;31m \u001b[0mresults\u001b[0m \u001b[0;34m=\u001b[0m \u001b[0mmodel\u001b[0m\u001b[0;34m(\u001b[0m\u001b[0;34m'../train.images/shelf-vision_mp4-0_jpg.rf.a8b3abc4e7eb8ff191577d877d5f30d9.jpg'\u001b[0m\u001b[0;34m)\u001b[0m\u001b[0;34m\u001b[0m\u001b[0;34m\u001b[0m\u001b[0m\n\u001b[0m\u001b[1;32m      2\u001b[0m \u001b[0mprint\u001b[0m\u001b[0;34m(\u001b[0m\u001b[0mresults\u001b[0m\u001b[0;34m)\u001b[0m\u001b[0;34m\u001b[0m\u001b[0;34m\u001b[0m\u001b[0m\n",
            "\u001b[0;31mTypeError\u001b[0m: 'dict' object is not callable"
          ]
        }
      ]
    },
    {
      "cell_type": "code",
      "source": [
        "\n",
        "!python detect.py --weights runs/train/exp5/best.pt --img 416 --conf 0.25 --source ../train/images --save-txt"
      ],
      "metadata": {
        "colab": {
          "base_uri": "https://localhost:8080/"
        },
        "id": "LV_brIDXqmih",
        "outputId": "e279c81b-c94b-445c-9b2e-83bee9ef4a81"
      },
      "execution_count": 12,
      "outputs": [
        {
          "output_type": "stream",
          "name": "stdout",
          "text": [
            "\u001b[34m\u001b[1mdetect: \u001b[0mweights=['runs/train/exp5/best.pt'], source=../train/images, imgsz=[416, 416], conf_thres=0.25, iou_thres=0.45, max_det=1000, device=, view_img=False, save_txt=True, save_conf=False, save_crop=False, nosave=False, classes=None, agnostic_nms=False, augment=False, visualize=False, update=False, project=runs/detect, name=exp, exist_ok=False, line_thickness=3, hide_labels=False, hide_conf=False, half=False, dnn=False\n",
            "YOLOv5 🚀 v6.0-159-gdb6ec66 torch 1.10.0+cu111 CPU\n",
            "\n",
            "Fusing layers... \n",
            "Model Summary: 213 layers, 7128793 parameters, 0 gradients, 16.2 GFLOPs\n",
            "image 1/16 /content/train/images/shelf-vision_mp4-0_jpg.rf.a8b3abc4e7eb8ff191577d877d5f30d9.jpg: 416x416 3 bigbottle-coffe-whites, 6 bigbottle-green-greens, 8 bottle-coffe-whites, 2 bottle-orange-reds, 2 bottle-orange-yellows, 1 bottle-red-white, 3 bottle-yellow-greens, 17 bottle-yellow-whites, 12 bottle-yellow-yellows, 2 box-black-blues, 8 box-black-reds, 7 box-black-whites, 3 box-black-yellows, 5 box-blue-greens, 12 box-blue-oranges, 1 box-blue-yellow, 5 box-cian-blues, 6 box-cian-reds, 7 box-green-greens, 5 box-green-oranges, 4 box-green-reds, 7 box-green-whites, 9 box-green-yellows, 8 box-multicolors, 9 box-orange-oranges, 10 box-orange-yellows, 5 box-purple-greens, 3 box-red-reds, 10 box-red-whites, 6 box-skyblue-reds, 2 box-yellow-blues, 1 box-yellow-green, 1 box-yellow-yellow, Done. (0.206s)\n",
            "image 2/16 /content/train/images/shelf-vision_mp4-115_jpg.rf.fb42596e9b9bdae8713f5c649494779a.jpg: 416x416 3 bigbottle-coffe-whites, 5 bigbottle-green-greens, 1 bottle-coffe-red, 7 bottle-coffe-whites, 3 bottle-orange-reds, 2 bottle-orange-yellows, 2 bottle-red-whites, 2 bottle-yellow-greens, 12 bottle-yellow-whites, 5 bottle-yellow-yellows, 3 box-black-blues, 10 box-black-reds, 10 box-black-whites, 2 box-black-yellows, 6 box-blue-greens, 19 box-blue-oranges, 1 box-blue-yellow, 7 box-cian-blues, 8 box-cian-reds, 8 box-green-greens, 6 box-green-oranges, 5 box-green-reds, 7 box-green-whites, 14 box-green-yellows, 1 box-lightgreen-orange, 10 box-multicolors, 3 box-orange-oranges, 5 box-orange-yellows, 4 box-purple-greens, 11 box-red-whites, 6 box-skyblue-reds, 3 box-yellow-blues, 2 box-yellow-yellows, Done. (0.188s)\n",
            "image 3/16 /content/train/images/shelf-vision_mp4-131_jpg.rf.e5a2ee245433f519c478f03d37d3c691.jpg: 416x416 3 bigbottle-coffe-whites, 4 bigbottle-green-greens, 1 bottle-coffe-red, 12 bottle-coffe-whites, 1 bottle-orange-purple, 1 bottle-orange-red, 1 bottle-orange-yellow, 14 bottle-yellow-whites, 7 bottle-yellow-yellows, 3 box-black-blues, 7 box-black-reds, 10 box-black-whites, 1 box-black-yellow, 4 box-blue-greens, 14 box-blue-oranges, 1 box-blue-yellow, 5 box-cian-blues, 11 box-cian-reds, 8 box-green-greens, 7 box-green-oranges, 4 box-green-reds, 7 box-green-whites, 13 box-green-yellows, 11 box-multicolors, 6 box-orange-oranges, 5 box-orange-yellows, 3 box-purple-greens, 1 box-red-red, 9 box-red-whites, 7 box-skyblue-reds, 3 box-yellow-blues, 2 box-yellow-yellows, Done. (0.187s)\n",
            "image 4/16 /content/train/images/shelf-vision_mp4-135_jpg.rf.dd78765a079d9b67553bb386e8170fbd.jpg: 416x416 3 bigbottle-coffe-whites, 4 bigbottle-green-greens, 1 bottle-coffe-red, 12 bottle-coffe-whites, 1 bottle-orange-purple, 4 bottle-orange-reds, 2 bottle-yellow-greens, 12 bottle-yellow-whites, 5 bottle-yellow-yellows, 3 box-black-blues, 8 box-black-reds, 10 box-black-whites, 1 box-black-yellow, 5 box-blue-greens, 15 box-blue-oranges, 1 box-blue-yellow, 5 box-cian-blues, 10 box-cian-reds, 5 box-green-greens, 7 box-green-oranges, 4 box-green-reds, 7 box-green-whites, 13 box-green-yellows, 10 box-multicolors, 8 box-orange-oranges, 5 box-orange-yellows, 3 box-purple-greens, 1 box-red-red, 11 box-red-whites, 7 box-skyblue-reds, 3 box-yellow-blues, 2 box-yellow-yellows, Done. (0.178s)\n",
            "image 5/16 /content/train/images/shelf-vision_mp4-154_jpg.rf.9cc4942843b64667e509ace7ee217eb7.jpg: 416x416 4 bigbottle-coffe-whites, 4 bigbottle-green-greens, 1 bottle-coffe-red, 12 bottle-coffe-whites, 2 bottle-orange-purples, 8 bottle-orange-reds, 1 bottle-orange-yellow, 2 bottle-red-whites, 2 bottle-yellow-greens, 10 bottle-yellow-whites, 2 bottle-yellow-yellows, 5 box-black-blues, 8 box-black-reds, 10 box-black-whites, 2 box-black-yellows, 5 box-blue-greens, 15 box-blue-oranges, 1 box-blue-yellow, 7 box-cian-blues, 7 box-cian-reds, 1 box-cian-yellow, 7 box-green-greens, 6 box-green-oranges, 5 box-green-reds, 7 box-green-whites, 13 box-green-yellows, 8 box-multicolors, 5 box-orange-oranges, 12 box-orange-yellows, 5 box-purple-greens, 3 box-red-reds, 10 box-red-whites, 7 box-skyblue-reds, 3 box-yellow-blues, 1 box-yellow-yellow, Done. (0.178s)\n",
            "image 6/16 /content/train/images/shelf-vision_mp4-15_jpg.rf.a20d2da3d19bd24f84712d58d6acbebf.jpg: 416x416 3 bigbottle-coffe-whites, 5 bigbottle-green-greens, 9 bottle-coffe-whites, 2 bottle-orange-purples, 5 bottle-orange-yellows, 2 bottle-yellow-greens, 13 bottle-yellow-whites, 10 bottle-yellow-yellows, 3 box-black-blues, 8 box-black-reds, 6 box-black-whites, 2 box-black-yellows, 4 box-blue-greens, 10 box-blue-oranges, 2 box-blue-yellows, 6 box-cian-blues, 5 box-cian-reds, 1 box-cian-yellow, 9 box-green-greens, 5 box-green-oranges, 4 box-green-reds, 8 box-green-whites, 12 box-green-yellows, 8 box-multicolors, 10 box-orange-oranges, 7 box-orange-yellows, 5 box-purple-greens, 3 box-red-reds, 12 box-red-whites, 7 box-skyblue-reds, 2 box-yellow-blues, 1 box-yellow-green, 3 box-yellow-oranges, 2 box-yellow-yellows, Done. (0.186s)\n",
            "image 7/16 /content/train/images/shelf-vision_mp4-182_jpg.rf.06bbf071901121f3d6de29105d9e080c.jpg: 416x416 2 bigbottle-coffe-whites, 3 bigbottle-green-greens, 2 bottle-coffe-reds, 15 bottle-coffe-whites, 3 bottle-orange-purples, 10 bottle-orange-reds, 1 bottle-red-white, 2 bottle-yellow-greens, 13 bottle-yellow-whites, 3 box-black-blues, 8 box-black-reds, 9 box-black-whites, 2 box-black-yellows, 2 box-blue-greens, 15 box-blue-oranges, 1 box-blue-yellow, 7 box-cian-blues, 8 box-cian-reds, 1 box-cian-yellow, 8 box-green-greens, 6 box-green-oranges, 4 box-green-reds, 8 box-green-whites, 11 box-green-yellows, 9 box-multicolors, 6 box-orange-oranges, 14 box-orange-yellows, 4 box-purple-greens, 2 box-red-reds, 10 box-red-whites, 7 box-skyblue-reds, 3 box-yellow-blues, 1 box-yellow-yellow, Done. (0.171s)\n",
            "image 8/16 /content/train/images/shelf-vision_mp4-190_jpg.rf.c2b5116dfec5c644c3821abf28246b82.jpg: 416x416 3 bigbottle-coffe-whites, 4 bigbottle-green-greens, 1 bottle-coffe-red, 12 bottle-coffe-whites, 1 bottle-orange-purple, 7 bottle-orange-reds, 2 bottle-yellow-greens, 10 bottle-yellow-whites, 1 bottle-yellow-yellow, 3 box-black-blues, 10 box-black-reds, 7 box-black-whites, 2 box-black-yellows, 1 box-blue-green, 13 box-blue-oranges, 1 box-blue-yellow, 8 box-cian-blues, 5 box-cian-reds, 1 box-cian-yellow, 6 box-green-greens, 6 box-green-oranges, 3 box-green-reds, 8 box-green-whites, 10 box-green-yellows, 9 box-multicolors, 5 box-orange-oranges, 10 box-orange-yellows, 4 box-purple-greens, 1 box-red-red, 12 box-red-whites, 6 box-skyblue-reds, 2 box-yellow-blues, 1 box-yellow-yellow, Done. (0.170s)\n",
            "image 9/16 /content/train/images/shelf-vision_mp4-20_jpg.rf.2c9941158d244f2518ee73a9ab6d5e17.jpg: 416x416 3 bigbottle-coffe-whites, 5 bigbottle-green-greens, 1 bottle-coffe-red, 5 bottle-coffe-whites, 3 bottle-orange-yellows, 2 bottle-yellow-greens, 11 bottle-yellow-whites, 8 bottle-yellow-yellows, 3 box-black-blues, 8 box-black-reds, 7 box-black-whites, 2 box-black-yellows, 4 box-blue-greens, 10 box-blue-oranges, 1 box-blue-yellow, 6 box-cian-blues, 5 box-cian-reds, 7 box-green-greens, 5 box-green-oranges, 4 box-green-reds, 7 box-green-whites, 12 box-green-yellows, 8 box-multicolors, 9 box-orange-oranges, 8 box-orange-yellows, 5 box-purple-greens, 3 box-red-reds, 12 box-red-whites, 6 box-skyblue-reds, 2 box-yellow-blues, 1 box-yellow-green, 1 box-yellow-yellow, Done. (0.170s)\n",
            "image 10/16 /content/train/images/shelf-vision_mp4-21_jpg.rf.2fed9ed7a62b9b03b1468f9faec9df90.jpg: 416x416 3 bigbottle-coffe-whites, 6 bigbottle-green-greens, 4 bottle-coffe-whites, 2 bottle-orange-yellows, 1 bottle-red-white, 2 bottle-yellow-greens, 8 bottle-yellow-whites, 9 bottle-yellow-yellows, 4 box-black-blues, 9 box-black-reds, 8 box-black-whites, 3 box-black-yellows, 4 box-blue-greens, 10 box-blue-oranges, 1 box-blue-yellow, 4 box-cian-blues, 5 box-cian-reds, 10 box-green-greens, 4 box-green-oranges, 5 box-green-reds, 8 box-green-whites, 10 box-green-yellows, 7 box-multicolors, 11 box-orange-oranges, 7 box-orange-yellows, 5 box-purple-greens, 3 box-red-reds, 10 box-red-whites, 7 box-skyblue-reds, 2 box-yellow-blues, 1 box-yellow-green, 2 box-yellow-yellows, Done. (0.179s)\n",
            "image 11/16 /content/train/images/shelf-vision_mp4-36_jpg.rf.68bb9aa3e8ca0fa1ab23cd1aa5919d30.jpg: 416x416 3 bigbottle-coffe-whites, 5 bigbottle-green-greens, 1 bottle-coffe-red, 11 bottle-coffe-whites, 1 bottle-orange-purple, 2 bottle-orange-reds, 2 bottle-orange-yellows, 2 bottle-red-whites, 3 bottle-yellow-greens, 12 bottle-yellow-whites, 9 bottle-yellow-yellows, 3 box-black-blues, 7 box-black-reds, 7 box-black-whites, 3 box-black-yellows, 4 box-blue-greens, 16 box-blue-oranges, 2 box-blue-yellows, 5 box-cian-blues, 8 box-cian-reds, 9 box-green-greens, 4 box-green-oranges, 4 box-green-reds, 8 box-green-whites, 16 box-green-yellows, 1 box-lightgreen-lightgreen, 1 box-lightgreen-orange, 9 box-multicolors, 9 box-orange-oranges, 10 box-orange-yellows, 4 box-purple-greens, 4 box-red-reds, 10 box-red-whites, 5 box-skyblue-reds, 2 box-yellow-blues, 1 box-yellow-green, 3 box-yellow-yellows, Done. (0.174s)\n",
            "image 12/16 /content/train/images/shelf-vision_mp4-38_jpg.rf.3f74f2b7273357d2f3900540f1290c7d.jpg: 416x416 3 bigbottle-coffe-whites, 5 bigbottle-green-greens, 1 bottle-coffe-red, 11 bottle-coffe-whites, 1 bottle-orange-purple, 2 bottle-orange-reds, 2 bottle-orange-yellows, 2 bottle-red-whites, 3 bottle-yellow-greens, 12 bottle-yellow-whites, 9 bottle-yellow-yellows, 3 box-black-blues, 7 box-black-reds, 7 box-black-whites, 3 box-black-yellows, 4 box-blue-greens, 16 box-blue-oranges, 2 box-blue-yellows, 5 box-cian-blues, 8 box-cian-reds, 9 box-green-greens, 4 box-green-oranges, 4 box-green-reds, 8 box-green-whites, 16 box-green-yellows, 1 box-lightgreen-lightgreen, 1 box-lightgreen-orange, 9 box-multicolors, 9 box-orange-oranges, 10 box-orange-yellows, 4 box-purple-greens, 4 box-red-reds, 10 box-red-whites, 5 box-skyblue-reds, 2 box-yellow-blues, 1 box-yellow-green, 3 box-yellow-yellows, Done. (0.181s)\n",
            "image 13/16 /content/train/images/shelf-vision_mp4-39_jpg.rf.b19f2a288b11a6ff807a4cade5729372.jpg: 416x416 1 bigbottle-coffe-orange, 2 bigbottle-coffe-whites, 5 bigbottle-green-greens, 1 bottle-coffe-red, 12 bottle-coffe-whites, 1 bottle-orange-purple, 1 bottle-orange-red, 2 bottle-orange-yellows, 1 bottle-red-white, 4 bottle-yellow-greens, 13 bottle-yellow-whites, 11 bottle-yellow-yellows, 4 box-black-blues, 7 box-black-reds, 8 box-black-whites, 2 box-black-yellows, 5 box-blue-greens, 16 box-blue-oranges, 1 box-blue-yellow, 5 box-cian-blues, 8 box-cian-reds, 11 box-green-greens, 4 box-green-oranges, 4 box-green-reds, 7 box-green-whites, 16 box-green-yellows, 9 box-multicolors, 8 box-orange-oranges, 8 box-orange-yellows, 5 box-purple-greens, 1 box-red-red, 10 box-red-whites, 5 box-skyblue-reds, 2 box-yellow-blues, 1 box-yellow-green, 3 box-yellow-yellows, Done. (0.180s)\n",
            "image 14/16 /content/train/images/shelf-vision_mp4-41_jpg.rf.18f8f8517b5106ac701b6e08e37e384d.jpg: 416x416 1 bigbottle-coffe-orange, 2 bigbottle-coffe-whites, 4 bigbottle-green-greens, 8 bottle-coffe-whites, 1 bottle-orange-purple, 1 bottle-red-white, 2 bottle-yellow-greens, 10 bottle-yellow-whites, 5 bottle-yellow-yellows, 4 box-black-blues, 6 box-black-reds, 7 box-black-whites, 2 box-black-yellows, 3 box-blue-greens, 14 box-blue-oranges, 2 box-blue-yellows, 6 box-cian-blues, 8 box-cian-reds, 10 box-green-greens, 5 box-green-oranges, 4 box-green-reds, 7 box-green-whites, 10 box-green-yellows, 1 box-lightgreen-orange, 10 box-multicolors, 12 box-orange-oranges, 10 box-orange-yellows, 4 box-purple-greens, 10 box-red-whites, 5 box-skyblue-reds, 1 box-yellow-blue, 2 box-yellow-yellows, Done. (0.171s)\n",
            "image 15/16 /content/train/images/shelf-vision_mp4-60_jpg.rf.667b59ea056f9a2e672f3d2581e7f448.jpg: 416x416 2 bigbottle-coffe-oranges, 3 bigbottle-coffe-whites, 4 bigbottle-green-greens, 2 bottle-coffe-reds, 10 bottle-coffe-whites, 1 bottle-orange-red, 1 bottle-orange-yellow, 2 bottle-yellow-greens, 12 bottle-yellow-whites, 13 bottle-yellow-yellows, 3 box-black-blues, 8 box-black-reds, 9 box-black-whites, 2 box-black-yellows, 5 box-blue-greens, 16 box-blue-oranges, 1 box-blue-red, 1 box-blue-yellow, 5 box-cian-blues, 7 box-cian-reds, 10 box-green-greens, 7 box-green-oranges, 5 box-green-reds, 9 box-green-whites, 12 box-green-yellows, 1 box-lightgreen-lightgreen, 11 box-multicolors, 8 box-orange-oranges, 9 box-orange-yellows, 5 box-purple-greens, 2 box-red-reds, 10 box-red-whites, 6 box-skyblue-reds, 1 box-yellow-blue, 1 box-yellow-green, 1 box-yellow-yellow, Done. (0.204s)\n",
            "image 16/16 /content/train/images/shelf-vision_mp4-66_jpg.rf.e891aaac99a80771cb250ea206e4da01.jpg: 416x416 3 bigbottle-coffe-whites, 3 bigbottle-green-greens, 1 bottle-coffe-red, 8 bottle-coffe-whites, 3 bottle-orange-reds, 1 bottle-orange-yellow, 1 bottle-red-white, 2 bottle-yellow-greens, 10 bottle-yellow-whites, 7 bottle-yellow-yellows, 4 box-black-blues, 8 box-black-reds, 9 box-black-whites, 3 box-black-yellows, 3 box-blue-greens, 15 box-blue-oranges, 1 box-blue-yellow, 4 box-cian-blues, 10 box-cian-reds, 9 box-green-greens, 6 box-green-oranges, 6 box-green-reds, 8 box-green-whites, 10 box-green-yellows, 9 box-multicolors, 5 box-orange-oranges, 10 box-orange-yellows, 5 box-purple-greens, 4 box-red-reds, 10 box-red-whites, 6 box-skyblue-reds, 1 box-yellow-blue, 2 box-yellow-yellows, Done. (0.221s)\n",
            "Speed: 1.2ms pre-process, 184.0ms inference, 2.3ms NMS per image at shape (1, 3, 416, 416)\n",
            "Results saved to \u001b[1mruns/detect/exp3\u001b[0m\n",
            "16 labels saved to runs/detect/exp3/labels\n"
          ]
        }
      ]
    },
    {
      "cell_type": "markdown",
      "source": [
        "^^ thats the right way"
      ],
      "metadata": {
        "id": "4EbAuVZCq6WP"
      }
    }
  ]
}